{
  "cells": [
    {
      "cell_type": "markdown",
      "metadata": {
        "id": "view-in-github",
        "colab_type": "text"
      },
      "source": [
        "<a href=\"https://colab.research.google.com/github/ashioyajotham/CIA-Factbook-Data-Dashboard/blob/main/angolafactbook.ipynb\" target=\"_parent\"><img src=\"https://colab.research.google.com/assets/colab-badge.svg\" alt=\"Open In Colab\"/></a>"
      ]
    },
    {
      "cell_type": "markdown",
      "metadata": {
        "id": "3O6UokjdjOSb"
      },
      "source": [
        "# Scraping Data on Angola from CIA's World Fact Book"
      ]
    },
    {
      "cell_type": "markdown",
      "metadata": {
        "id": "KgWOxJbVjOSg"
      },
      "source": [
        "## Scraping Foundations"
      ]
    },
    {
      "cell_type": "markdown",
      "metadata": {
        "id": "WBNBUV-VjOSh"
      },
      "source": [
        "### Downloading the webpage using `requests` library"
      ]
    },
    {
      "cell_type": "code",
      "execution_count": null,
      "metadata": {
        "colab": {
          "base_uri": "https://localhost:8080/"
        },
        "id": "dAA6tvzijOSi",
        "outputId": "a79554bc-a5a7-4387-8af6-0f54d06968fd"
      },
      "outputs": [
        {
          "output_type": "stream",
          "name": "stdout",
          "text": [
            "\u001b[?25l\r\u001b[K     |█████▏                          | 10 kB 28.1 MB/s eta 0:00:01\r\u001b[K     |██████████▍                     | 20 kB 30.2 MB/s eta 0:00:01\r\u001b[K     |███████████████▋                | 30 kB 12.5 MB/s eta 0:00:01\r\u001b[K     |████████████████████▉           | 40 kB 7.0 MB/s eta 0:00:01\r\u001b[K     |██████████████████████████      | 51 kB 7.6 MB/s eta 0:00:01\r\u001b[K     |███████████████████████████████▎| 61 kB 8.7 MB/s eta 0:00:01\r\u001b[K     |████████████████████████████████| 62 kB 469 kB/s \n",
            "\u001b[?25h"
          ]
        }
      ],
      "source": [
        "!pip install requests --upgrade --quiet"
      ]
    },
    {
      "cell_type": "code",
      "execution_count": null,
      "metadata": {
        "id": "8v5GcBeKjOSj"
      },
      "outputs": [],
      "source": [
        "import requests"
      ]
    },
    {
      "cell_type": "code",
      "execution_count": null,
      "metadata": {
        "id": "sLJY_RIcjOSk"
      },
      "outputs": [],
      "source": [
        "angola_url=\"https://www.cia.gov/the-world-factbook/countries/angola/\""
      ]
    },
    {
      "cell_type": "code",
      "source": [
        "# you might need to mount google drive on colab\n",
        "# run the following code:\n",
        "# from google.colab import drive\n",
        "# drive.mount('/content/gdrive')"
      ],
      "metadata": {
        "id": "QrFcLIfSu4pl"
      },
      "execution_count": null,
      "outputs": []
    },
    {
      "cell_type": "code",
      "execution_count": null,
      "metadata": {
        "id": "Td0VGsiFjOSk"
      },
      "outputs": [],
      "source": [
        "response=requests.get(angola_url)"
      ]
    },
    {
      "cell_type": "code",
      "execution_count": null,
      "metadata": {
        "colab": {
          "base_uri": "https://localhost:8080/"
        },
        "id": "m4m05LFrjOSl",
        "outputId": "bb8425a9-593a-490c-dbdb-4660d669a3c0"
      },
      "outputs": [
        {
          "output_type": "stream",
          "name": "stdout",
          "text": [
            "Help on function get in module requests.api:\n",
            "\n",
            "get(url, params=None, **kwargs)\n",
            "    Sends a GET request.\n",
            "    \n",
            "    :param url: URL for the new :class:`Request` object.\n",
            "    :param params: (optional) Dictionary, list of tuples or bytes to send\n",
            "        in the query string for the :class:`Request`.\n",
            "    :param \\*\\*kwargs: Optional arguments that ``request`` takes.\n",
            "    :return: :class:`Response <Response>` object\n",
            "    :rtype: requests.Response\n",
            "\n"
          ]
        }
      ],
      "source": [
        "help(requests.get)"
      ]
    },
    {
      "cell_type": "markdown",
      "metadata": {
        "id": "5_Jv3DfnjOSm"
      },
      "source": [
        "requests.get() returns information on the webpage provided of type `requests.Response object` which contains the response from the server of the website from which we just requested. This includes the `content`, `headers`, `status_code` .etc.\n",
        "\n",
        "Checkout [requests.Response object](https://www.w3schools.com/python/ref_requests_response.asp)\n"
      ]
    },
    {
      "cell_type": "markdown",
      "metadata": {
        "id": "7TwcDpSfjOSn"
      },
      "source": [
        "If we type `response.content`, we're able to see the content from the page. If we use `response.text`, we see the output as unicode."
      ]
    },
    {
      "cell_type": "code",
      "execution_count": null,
      "metadata": {
        "colab": {
          "base_uri": "https://localhost:8080/"
        },
        "id": "Eg6xL-xVjOSo",
        "outputId": "2991d2bf-32e5-488c-c06b-881db3798281"
      },
      "outputs": [
        {
          "output_type": "execute_result",
          "data": {
            "text/plain": [
              "b'<!DOCTYPE html><html lang=\"en\"><head><meta charSet=\"utf-8\"/><meta http-equiv=\"x-ua-compatible\" content=\"ie=edge\"/><meta name=\"viewport\" content=\"width=device-width, initial-scale=1, shrink-to-fit=no\"/><style id=\"typography.js\">html{font-family:sans-serif;-ms-text-size-adjust:100%;-webkit-text-size-adjust:100%}body{margin:0}article,aside,details,figcaption,figure,footer,header,main,menu,nav,section,summary{display:block}audio,canvas,progress,video{display:inline-block}audio:not([controls]){displa'"
            ]
          },
          "metadata": {},
          "execution_count": 6
        }
      ],
      "source": [
        "response.content[:500]"
      ]
    },
    {
      "cell_type": "code",
      "execution_count": null,
      "metadata": {
        "colab": {
          "base_uri": "https://localhost:8080/",
          "height": 71
        },
        "id": "eqRpYX82jOSo",
        "outputId": "bc65da03-2288-4de9-b28c-0a3881a3a1a5"
      },
      "outputs": [
        {
          "output_type": "execute_result",
          "data": {
            "text/plain": [
              "'<!DOCTYPE html><html lang=\"en\"><head><meta charSet=\"utf-8\"/><meta http-equiv=\"x-ua-compatible\" content=\"ie=edge\"/><meta name=\"viewport\" content=\"width=device-width, initial-scale=1, shrink-to-fit=no\"/><style id=\"typography.js\">html{font-family:sans-serif;-ms-text-size-adjust:100%;-webkit-text-size-adjust:100%}body{margin:0}article,aside,details,figcaption,figure,footer,header,main,menu,nav,section,summary{display:block}audio,canvas,progress,video{display:inline-block}audio:not([controls]){displa'"
            ],
            "application/vnd.google.colaboratory.intrinsic+json": {
              "type": "string"
            }
          },
          "metadata": {},
          "execution_count": 7
        }
      ],
      "source": [
        "response.text[:500]"
      ]
    },
    {
      "cell_type": "code",
      "execution_count": null,
      "metadata": {
        "colab": {
          "base_uri": "https://localhost:8080/"
        },
        "id": "RYz8JvA8jOSp",
        "outputId": "61792497-d10e-4791-c0d0-94446c2f3cbb"
      },
      "outputs": [
        {
          "output_type": "execute_result",
          "data": {
            "text/plain": [
              "351469"
            ]
          },
          "metadata": {},
          "execution_count": 8
        }
      ],
      "source": [
        "len(response.text)"
      ]
    },
    {
      "cell_type": "markdown",
      "metadata": {
        "id": "jhT1mGvzjOSq"
      },
      "source": [
        "We can see that the length of the response is about 350000 characters long. Let's save the webpage in a file with the extension .html. This file will be parsed as html, and will open in a web-browser."
      ]
    },
    {
      "cell_type": "code",
      "execution_count": null,
      "metadata": {
        "id": "LmGphXcHjOSr"
      },
      "outputs": [],
      "source": [
        "with open (\"angolafacts.html\",\"w\", encoding=\"utf-8\") as file:\n",
        "    file.write(response.text)"
      ]
    },
    {
      "cell_type": "markdown",
      "metadata": {
        "id": "jeWdwspZjOSr"
      },
      "source": [
        "If we go to the directory in which our file is saved, we find the webpage saved as `angolafacts.html`. We have the webpage saved on our machine! We have successfully been able to scrape the website with a few steps! \n",
        "\n",
        "Hooray!!"
      ]
    },
    {
      "cell_type": "markdown",
      "metadata": {
        "id": "_gSm103mjOSr"
      },
      "source": [
        "### Inspecting the HTML in a webpage"
      ]
    },
    {
      "cell_type": "markdown",
      "metadata": {
        "id": "stL_VMCnjOSs"
      },
      "source": [
        "All websites are created using a language called [HTML](\"https://www.w3schools.com/html/\"). We can see the HTML used to create a page by using the right-click, and clicking on `View Page Source` or `Inspect Element`. "
      ]
    },
    {
      "cell_type": "markdown",
      "metadata": {
        "id": "K0ttkmKYjOSs"
      },
      "source": [
        "![](https://drive.google.com/uc?export=view&id=1UCXqucHehA0PYdXrCTZXwXqqnQQ75yeh)"
      ]
    },
    {
      "cell_type": "markdown",
      "metadata": {
        "id": "czeIy1gqjOSs"
      },
      "source": [
        "The Page Source contains the HTML\n",
        "\n",
        "![](https://drive.google.com/uc?export=view&id=1uWjmMs5XKHBhEcAKcQ1B3T9klQiks4cg)"
      ]
    },
    {
      "cell_type": "markdown",
      "metadata": {
        "id": "7Bcvp6dljOSt"
      },
      "source": [
        "From the source code, we can see the various tags used to construct the HTML, which we'll use in our scraping. These tags include\n",
        "* `html`\n",
        "* `head`\n",
        "* `title`\n",
        "* `body`\n",
        "* `div`\n",
        "* `span`\n",
        "* `h1` to `h6`\n",
        "* `p`\n",
        "* `img`\n",
        "* `ul`, `ol` and `li`\n",
        "* `table`, `tr`, `th` and `td`\n",
        "* `style`\n",
        "* ...\n",
        "\n",
        "Each tag means something specific in html. For example, the `h1` tag contains the header, or to be more specific, the h1 header, which at most times, is the main header in the html. Scraping allows us to target each one of these tags.\n",
        "\n",
        "Each html tag supports several attributes. Following are some common attributes used to modify the behavior of tags:\n",
        "\n",
        "* `id`\n",
        "* `style`\n",
        "* `class`\n",
        "* `href` (used with `<a>`)\n",
        "* `src` (used with `<img>`)\n",
        "\n",
        "We can also target each one of these attributes during scraping."
      ]
    },
    {
      "cell_type": "code",
      "execution_count": null,
      "metadata": {
        "id": "oSkbEIjIjOSt"
      },
      "outputs": [],
      "source": []
    },
    {
      "cell_type": "code",
      "execution_count": null,
      "metadata": {
        "id": "yA5RzFtjjOSu"
      },
      "outputs": [],
      "source": []
    },
    {
      "cell_type": "markdown",
      "metadata": {
        "id": "rJQFSsw-jOSu"
      },
      "source": [
        "### Extracting info using BeautifulSoup"
      ]
    },
    {
      "cell_type": "markdown",
      "metadata": {
        "id": "G9phL_PijOSu"
      },
      "source": [
        "`BeautifulSoup` is a library used to extract information from HTML source code of a webpage. To use it, we have to install it first. [Beautiful Soup Docs](https://beautiful-soup-4.readthedocs.io/en/latest/)"
      ]
    },
    {
      "cell_type": "code",
      "execution_count": null,
      "metadata": {
        "colab": {
          "base_uri": "https://localhost:8080/"
        },
        "id": "Kubc6iu1jOSu",
        "outputId": "1aad6b68-3b60-47cd-c3ee-0c299e3b7612"
      },
      "outputs": [
        {
          "output_type": "stream",
          "name": "stdout",
          "text": [
            "\u001b[?25l\r\u001b[K     |██▋                             | 10 kB 20.2 MB/s eta 0:00:01\r\u001b[K     |█████▏                          | 20 kB 12.8 MB/s eta 0:00:01\r\u001b[K     |███████▊                        | 30 kB 16.9 MB/s eta 0:00:01\r\u001b[K     |██████████▎                     | 40 kB 7.4 MB/s eta 0:00:01\r\u001b[K     |████████████▉                   | 51 kB 7.3 MB/s eta 0:00:01\r\u001b[K     |███████████████▍                | 61 kB 8.5 MB/s eta 0:00:01\r\u001b[K     |██████████████████              | 71 kB 8.0 MB/s eta 0:00:01\r\u001b[K     |████████████████████▌           | 81 kB 6.2 MB/s eta 0:00:01\r\u001b[K     |███████████████████████         | 92 kB 6.8 MB/s eta 0:00:01\r\u001b[K     |█████████████████████████▋      | 102 kB 7.5 MB/s eta 0:00:01\r\u001b[K     |████████████████████████████▏   | 112 kB 7.5 MB/s eta 0:00:01\r\u001b[K     |██████████████████████████████▊ | 122 kB 7.5 MB/s eta 0:00:01\r\u001b[K     |████████████████████████████████| 128 kB 7.5 MB/s \n",
            "\u001b[?25h"
          ]
        }
      ],
      "source": [
        "!pip install beautifulsoup4 --upgrade --quiet"
      ]
    },
    {
      "cell_type": "code",
      "execution_count": null,
      "metadata": {
        "id": "vn1PAbOujOSv"
      },
      "outputs": [],
      "source": [
        "from bs4 import BeautifulSoup as bs"
      ]
    },
    {
      "cell_type": "markdown",
      "metadata": {
        "id": "xsBGDzNQjOSv"
      },
      "source": [
        "Now, we convert the `response` to a BeautifulSoup object"
      ]
    },
    {
      "cell_type": "code",
      "execution_count": null,
      "metadata": {
        "id": "wUQwYAvqjOSv"
      },
      "outputs": [],
      "source": [
        "factsangola=bs(response.content)"
      ]
    },
    {
      "cell_type": "code",
      "execution_count": null,
      "metadata": {
        "id": "VyNpEiWljOSv"
      },
      "outputs": [],
      "source": [
        "# print the bs object\n",
        "# print(factsangola.prettify)"
      ]
    },
    {
      "cell_type": "markdown",
      "metadata": {
        "id": "FZf-YCE9jOSv"
      },
      "source": [
        "### Targetting specific parts during scraping"
      ]
    },
    {
      "cell_type": "markdown",
      "metadata": {
        "id": "voinGa4HjOSv"
      },
      "source": [
        "To get the `<title>` we can use the `title` method"
      ]
    },
    {
      "cell_type": "code",
      "execution_count": null,
      "metadata": {
        "colab": {
          "base_uri": "https://localhost:8080/"
        },
        "id": "WEBK8yk_jOSw",
        "outputId": "db4529f1-b517-45b3-b11f-f9a39d5c9b64"
      },
      "outputs": [
        {
          "output_type": "execute_result",
          "data": {
            "text/plain": [
              "<title data-react-helmet=\"true\">Angola - The World Factbook</title>"
            ]
          },
          "metadata": {},
          "execution_count": 14
        }
      ],
      "source": [
        "factsangola.title"
      ]
    },
    {
      "cell_type": "markdown",
      "metadata": {
        "id": "JmNB5pL_jOSw"
      },
      "source": [
        "The title of a website is what is shown on the tab of a page.\n",
        "If we only wanted to get the text from the title, we could use the `string` method."
      ]
    },
    {
      "cell_type": "code",
      "execution_count": null,
      "metadata": {
        "colab": {
          "base_uri": "https://localhost:8080/",
          "height": 36
        },
        "id": "n5C48NTUjOSw",
        "outputId": "25d6bdad-cd4f-47c1-8405-caa869d3261b"
      },
      "outputs": [
        {
          "output_type": "execute_result",
          "data": {
            "text/plain": [
              "'Angola - The World Factbook'"
            ],
            "application/vnd.google.colaboratory.intrinsic+json": {
              "type": "string"
            }
          },
          "metadata": {},
          "execution_count": 15
        }
      ],
      "source": [
        "factsangola.title.string"
      ]
    },
    {
      "cell_type": "code",
      "execution_count": null,
      "metadata": {
        "id": "78ZUWjpjjOSw"
      },
      "outputs": [],
      "source": [
        "title_tag=factsangola.title.string"
      ]
    },
    {
      "cell_type": "code",
      "execution_count": null,
      "metadata": {
        "id": "F2WKXB0QjOSx"
      },
      "outputs": [],
      "source": [
        "# To get the head\n",
        "# factsangola.head"
      ]
    },
    {
      "cell_type": "code",
      "execution_count": null,
      "metadata": {
        "colab": {
          "base_uri": "https://localhost:8080/"
        },
        "id": "vA0mi1mMjOSx",
        "outputId": "478e6d04-1fd9-4d4d-b16c-7cc34ae476be"
      },
      "outputs": [
        {
          "output_type": "execute_result",
          "data": {
            "text/plain": [
              "<h1 class=\"hero-title\">Angola</h1>"
            ]
          },
          "metadata": {},
          "execution_count": 18
        }
      ],
      "source": [
        "# To get h1 tag\n",
        "factsangola.h1"
      ]
    },
    {
      "cell_type": "code",
      "execution_count": null,
      "metadata": {
        "colab": {
          "base_uri": "https://localhost:8080/"
        },
        "id": "z85jWFHojOSx",
        "outputId": "355759b9-daba-4107-c511-6e2f9929b255"
      },
      "outputs": [
        {
          "output_type": "execute_result",
          "data": {
            "text/plain": [
              "<h2>Photos of Angola</h2>"
            ]
          },
          "metadata": {},
          "execution_count": 19
        }
      ],
      "source": [
        "# To get h2 tag\n",
        "factsangola.h2"
      ]
    },
    {
      "cell_type": "code",
      "execution_count": null,
      "metadata": {
        "colab": {
          "base_uri": "https://localhost:8080/"
        },
        "id": "uNqAe56zjOSy",
        "outputId": "3ea1c751-ac62-43dc-b3b7-c9862e9a667f"
      },
      "outputs": [
        {
          "output_type": "execute_result",
          "data": {
            "text/plain": [
              "<p>From the late 14th to the mid 19th century a Kingdom of Kongo stretched across central Africa from present-day northern Angola into the current Congo republics. It traded heavily with the Portuguese who, beginning in the 16th century, established coastal colonies and trading posts and introduced Christianity. By the 19th century, Portuguese settlement had spread to the interior; in 1914, Portugal abolished the last vestiges of the Kongo Kingdom and Angola became a Portuguese colony. <br/><br/>Angola scores low on human development indexes despite using its large oil reserves to rebuild since the end of a 27-year civil war in 2002. Fighting between the Popular Movement for the Liberation of Angola (MPLA), led by Jose Eduardo DOS SANTOS, and the National Union for the Total Independence of Angola (UNITA), led by Jonas SAVIMBI, followed independence from Portugal in 1975. Peace seemed imminent in 1992 when Angola held national elections, but fighting picked up again in 1993. Up to 1.5 million lives may have been lost - and 4 million people displaced - during the more than a quarter century of fighting. SAVIMBI's death in 2002 ended UNITA's insurgency and cemented the MPLA's hold on power. DOS SANTOS stepped down from the presidency in 2017, having led the country since 1979. He pushed through a new constitution in 2010. Joao LOURENCO was elected president in August 2017 and became president of the MPLA in September 2018.</p>"
            ]
          },
          "metadata": {},
          "execution_count": 20
        }
      ],
      "source": [
        "# To get <p> tag\n",
        "factsangola.p"
      ]
    },
    {
      "cell_type": "markdown",
      "metadata": {
        "id": "Rrz3nVZcjOSy"
      },
      "source": [
        "Now, you might realise that even though we have mulitple `<h2>` tags and `<p>` tags, only one is returned. This is because BeautifulSoup only returns the **first** tag it finds. In this case, the first h2, the first p, and so on.."
      ]
    },
    {
      "cell_type": "markdown",
      "metadata": {
        "id": "kCFh1GN2jOSy"
      },
      "source": [
        "### find and find_all"
      ]
    },
    {
      "cell_type": "markdown",
      "metadata": {
        "id": "tGeIytDfjOSz"
      },
      "source": [
        "So as to target tags more specifically, bs4 provides the methods `find` and `find_all`. Let's see how each of this works."
      ]
    },
    {
      "cell_type": "code",
      "execution_count": null,
      "metadata": {
        "colab": {
          "base_uri": "https://localhost:8080/"
        },
        "id": "nT4NkN1ljOSz",
        "outputId": "255bb4cb-9b69-4e64-e820-6ee82d963322"
      },
      "outputs": [
        {
          "output_type": "execute_result",
          "data": {
            "text/plain": [
              "[<h2>Photos of Angola</h2>,\n",
              " <h2>Introduction</h2>,\n",
              " <h2>Geography</h2>,\n",
              " <h2>People and Society</h2>,\n",
              " <h2>Environment</h2>,\n",
              " <h2>Government</h2>,\n",
              " <h2>Economy</h2>,\n",
              " <h2>Energy</h2>,\n",
              " <h2>Communications</h2>,\n",
              " <h2>Transportation</h2>,\n",
              " <h2>Military and Security</h2>,\n",
              " <h2>Transnational Issues</h2>]"
            ]
          },
          "metadata": {},
          "execution_count": 21
        }
      ],
      "source": [
        "factsangola.find_all('h2')"
      ]
    },
    {
      "cell_type": "markdown",
      "metadata": {
        "id": "Qlh46eahjOSz"
      },
      "source": [
        "`find_all` returns all elements with the tag `h2`"
      ]
    },
    {
      "cell_type": "code",
      "execution_count": null,
      "metadata": {
        "colab": {
          "base_uri": "https://localhost:8080/"
        },
        "id": "3XJhts4IjOSz",
        "outputId": "aaa39c1d-bf0c-42d3-cb31-48063be0b15f"
      },
      "outputs": [
        {
          "output_type": "execute_result",
          "data": {
            "text/plain": [
              "<img alt=\"\" aria-hidden=\"true\" role=\"presentation\" src=\"data:image/svg+xml;charset=utf-8,%3Csvg height='600' width='600' xmlns='http://www.w3.org/2000/svg' version='1.1'%3E%3C/svg%3E\" style=\"max-width:100%;display:block;position:static\"/>"
            ]
          },
          "metadata": {},
          "execution_count": 22
        }
      ],
      "source": [
        "factsangola.find('img')"
      ]
    },
    {
      "cell_type": "code",
      "execution_count": null,
      "metadata": {
        "id": "_Tq4QLlcjOSz"
      },
      "outputs": [],
      "source": [
        "import re"
      ]
    },
    {
      "cell_type": "code",
      "execution_count": null,
      "metadata": {
        "id": "iZvEhBh3jOS0"
      },
      "outputs": [],
      "source": [
        "# find an alt attribute for an img element and get the src link as done below\n",
        "imgsrc=factsangola.find_all('img',attrs={\"alt\":re.compile(\"Cabo Ledo\")})[0]['data-src']"
      ]
    },
    {
      "cell_type": "code",
      "execution_count": null,
      "metadata": {
        "id": "VIv2Mh83jOS0"
      },
      "outputs": [],
      "source": [
        "imgurl='https://www.cia.gov'+imgsrc"
      ]
    },
    {
      "cell_type": "code",
      "execution_count": null,
      "metadata": {
        "id": "RZlkczMWjOS0"
      },
      "outputs": [],
      "source": [
        "# save an image\n",
        "with open(\"Cabo Lebo.jpg\",\"wb\") as f:\n",
        "    f.write(requests.get(imgurl).content)"
      ]
    },
    {
      "cell_type": "markdown",
      "metadata": {
        "id": "MmghXcbBjOS0"
      },
      "source": [
        "`find`, however, returns only the first element."
      ]
    },
    {
      "cell_type": "code",
      "execution_count": null,
      "metadata": {
        "id": "fhdY5C4sjOS0",
        "outputId": "54f31c97-db8b-408c-8828-41f6a3fa437d"
      },
      "outputs": [
        {
          "name": "stdout",
          "output_type": "stream",
          "text": [
            "Help on method find_all in module bs4.element:\n",
            "\n",
            "find_all(name=None, attrs={}, recursive=True, string=None, limit=None, **kwargs) method of bs4.BeautifulSoup instance\n",
            "    Look in the children of this PageElement and find all\n",
            "    PageElements that match the given criteria.\n",
            "    \n",
            "    All find_* methods take a common set of arguments. See the online\n",
            "    documentation for detailed explanations.\n",
            "    \n",
            "    :param name: A filter on tag name.\n",
            "    :param attrs: A dictionary of filters on attribute values.\n",
            "    :param recursive: If this is True, find_all() will perform a\n",
            "        recursive search of this PageElement's children. Otherwise,\n",
            "        only the direct children will be considered.\n",
            "    :param limit: Stop looking after finding this many results.\n",
            "    :kwargs: A dictionary of filters on attribute values.\n",
            "    :return: A ResultSet of PageElements.\n",
            "    :rtype: bs4.element.ResultSet\n",
            "\n"
          ]
        }
      ],
      "source": [
        "# help(factsangola.find)\n",
        "help(factsangola.find_all)"
      ]
    },
    {
      "cell_type": "markdown",
      "metadata": {
        "id": "qKPP_jqwjOS0"
      },
      "source": [
        "You can pass in attributes to the find_all and find method, allowing you to specify what you want to scrape more. The code below returns all h3 elements with the `class` `mt30`"
      ]
    },
    {
      "cell_type": "code",
      "execution_count": null,
      "metadata": {
        "id": "FA2ZbTQrjOS1"
      },
      "outputs": [],
      "source": [
        "h3mt30=factsangola.find_all(\"h3\",attrs={\"class\":\"mt30\"})"
      ]
    },
    {
      "cell_type": "code",
      "execution_count": null,
      "metadata": {
        "id": "2JOgx1wkjOS1",
        "outputId": "681fb776-96f0-4e69-e42a-6fa4b0d1755e"
      },
      "outputs": [
        {
          "data": {
            "text/plain": [
              "[<h3 class=\"mt30\"><a href=\"/the-world-factbook/field/background\">Background</a></h3>,\n",
              " <h3 class=\"mt30\"><a href=\"/the-world-factbook/field/location\">Location</a></h3>,\n",
              " <h3 class=\"mt30\"><a href=\"/the-world-factbook/field/geographic-coordinates\">Geographic coordinates</a></h3>,\n",
              " <h3 class=\"mt30\"><a href=\"/the-world-factbook/field/map-references\">Map references</a></h3>,\n",
              " <h3 class=\"mt30\"><a href=\"/the-world-factbook/field/area\">Area</a></h3>]"
            ]
          },
          "execution_count": 45,
          "metadata": {},
          "output_type": "execute_result"
        }
      ],
      "source": [
        "h3mt30[:5]"
      ]
    },
    {
      "cell_type": "code",
      "execution_count": null,
      "metadata": {
        "id": "JEFuhRaRjOS1",
        "outputId": "ad8903ff-2484-454c-96fd-83e8a5a52686"
      },
      "outputs": [
        {
          "data": {
            "text/plain": [
              "['mt30']"
            ]
          },
          "execution_count": 59,
          "metadata": {},
          "output_type": "execute_result"
        }
      ],
      "source": [
        "# find which class the elements in h3mt30 belong\n",
        "h3mt30[0]['class']"
      ]
    },
    {
      "cell_type": "code",
      "execution_count": null,
      "metadata": {
        "id": "-Z6KGq5yjOS1",
        "outputId": "f5568d35-2fc3-4eef-adc0-2fd915f3968d"
      },
      "outputs": [
        {
          "data": {
            "text/plain": [
              "'Background'"
            ]
          },
          "execution_count": 53,
          "metadata": {},
          "output_type": "execute_result"
        }
      ],
      "source": [
        "h3mt30[0].find('a')"
      ]
    },
    {
      "cell_type": "code",
      "execution_count": null,
      "metadata": {
        "id": "SWomgkqsjOS1",
        "outputId": "ececc831-3b3f-4ff9-ac11-cc85659999d8"
      },
      "outputs": [
        {
          "name": "stdout",
          "output_type": "stream",
          "text": [
            "Background\n",
            "Location\n",
            "Geographic coordinates\n",
            "Map references\n",
            "Area\n",
            "Area - comparative\n",
            "Land boundaries\n",
            "Coastline\n",
            "Maritime claims\n",
            "Climate\n",
            "Terrain\n",
            "Elevation\n",
            "Natural resources\n",
            "Land use\n",
            "Irrigated land\n",
            "Major rivers (by length in km)\n",
            "Major watersheds (area sq km)\n",
            "Major aquifers\n",
            "Population distribution\n",
            "Natural hazards\n",
            "Geography - note\n",
            "Population\n",
            "Nationality\n",
            "Ethnic groups\n",
            "Languages\n",
            "Religions\n",
            "Demographic profile\n",
            "Age structure\n",
            "Dependency ratios\n",
            "Median age\n",
            "Population growth rate\n",
            "Birth rate\n",
            "Death rate\n",
            "Net migration rate\n",
            "Population distribution\n",
            "Urbanization\n",
            "Major urban areas - population\n",
            "Sex ratio\n",
            "Mother's mean age at first birth\n",
            "Maternal mortality ratio\n",
            "Infant mortality rate\n",
            "Life expectancy at birth\n",
            "Total fertility rate\n",
            "Contraceptive prevalence rate\n",
            "Drinking water source\n",
            "Current health expenditure\n",
            "Physicians density\n",
            "Sanitation facility access\n",
            "HIV/AIDS - adult prevalence rate\n",
            "HIV/AIDS - people living with HIV/AIDS\n",
            "HIV/AIDS - deaths\n",
            "Major infectious diseases\n",
            "Obesity - adult prevalence rate\n",
            "Alcohol consumption per capita\n",
            "Children under the age of 5 years underweight\n",
            "Child marriage\n",
            "Education expenditures\n",
            "Literacy\n",
            "School life expectancy (primary to tertiary education)\n",
            "Unemployment, youth ages 15-24\n",
            "Environment - current issues\n",
            "Environment - international agreements\n",
            "Air pollutants\n",
            "Climate\n",
            "Land use\n",
            "Urbanization\n",
            "Revenue from forest resources\n",
            "Revenue from coal\n",
            "Major infectious diseases\n",
            "Waste and recycling\n",
            "Major rivers (by length in km)\n",
            "Major watersheds (area sq km)\n",
            "Major aquifers\n",
            "Total water withdrawal\n",
            "Total renewable water resources\n",
            "Country name\n",
            "Government type\n",
            "Capital\n",
            "Administrative divisions\n",
            "Independence\n",
            "National holiday\n",
            "Constitution\n",
            "Legal system\n",
            "International law organization participation\n",
            "Citizenship\n",
            "Suffrage\n",
            "Executive branch\n",
            "Legislative branch\n",
            "Judicial branch\n",
            "Political parties and leaders\n",
            "International organization participation\n",
            "Diplomatic representation in the US\n",
            "Diplomatic representation from the US\n",
            "Flag description\n",
            "National symbol(s)\n",
            "National anthem\n",
            "National heritage\n",
            "Economic overview\n",
            "Real GDP (purchasing power parity)\n",
            "Real GDP growth rate\n",
            "Real GDP per capita\n",
            "GDP (official exchange rate)\n",
            "Inflation rate (consumer prices)\n",
            "Credit ratings\n",
            "GDP - composition, by sector of origin\n",
            "GDP - composition, by end use\n",
            "Agricultural products\n",
            "Industries\n",
            "Industrial production growth rate\n",
            "Labor force\n",
            "Labor force - by occupation\n",
            "Unemployment rate\n",
            "Unemployment, youth ages 15-24\n",
            "Population below poverty line\n",
            "Gini Index coefficient - distribution of family income\n",
            "Household income or consumption by percentage share\n",
            "Budget\n",
            "Budget surplus (+) or deficit (-)\n",
            "Public debt\n",
            "Taxes and other revenues\n",
            "Fiscal year\n",
            "Current account balance\n",
            "Exports\n",
            "Exports - partners\n",
            "Exports - commodities\n",
            "Imports\n",
            "Imports - partners\n",
            "Imports - commodities\n",
            "Reserves of foreign exchange and gold\n",
            "Debt - external\n",
            "Exchange rates\n",
            "Electricity access\n",
            "Electricity\n",
            "Electricity generation sources\n",
            "Coal\n",
            "Petroleum\n",
            "Refined petroleum products - production\n",
            "Refined petroleum products - exports\n",
            "Refined petroleum products - imports\n",
            "Natural gas\n",
            "Carbon dioxide emissions\n",
            "Energy consumption per capita\n",
            "Telephones - fixed lines\n",
            "Telephones - mobile cellular\n",
            "Telecommunication systems\n",
            "Broadcast media\n",
            "Internet country code\n",
            "Internet users\n",
            "Broadband - fixed subscriptions\n",
            "National air transport system\n",
            "Civil aircraft registration country code prefix\n",
            "Airports\n",
            "Airports - with paved runways\n",
            "Airports - with unpaved runways\n",
            "Heliports\n",
            "Pipelines\n",
            "Railways\n",
            "Roadways\n",
            "Waterways\n",
            "Merchant marine\n",
            "Ports and terminals\n",
            "Military and security forces\n",
            "Military expenditures\n",
            "Military and security service personnel strengths\n",
            "Military equipment inventories and acquisitions\n",
            "Military service age and obligation\n",
            "Military - note\n",
            "Maritime threats\n",
            "Disputes - international\n",
            "Refugees and internally displaced persons\n",
            "Illicit drugs\n"
          ]
        }
      ],
      "source": [
        "for h3 in h3mt30:\n",
        "    print(h3.find('a').text)"
      ]
    },
    {
      "cell_type": "markdown",
      "metadata": {
        "id": "syZWupcKjOS2"
      },
      "source": [
        "## Getting the Data we need"
      ]
    },
    {
      "cell_type": "markdown",
      "metadata": {
        "id": "EDSMAOzdjOS2"
      },
      "source": [
        "For this exercise, we want to scrape all facts about Angola, and save them in a CSV file. However, we need to do this in an orderly way such that, if one gets the data, they would understand it almost as equally as they would understand it if it were on the website. This means retaining the headings, and linking them with the data below the headings."
      ]
    },
    {
      "cell_type": "markdown",
      "metadata": {
        "id": "jSUPXIbdjOS2"
      },
      "source": [
        "Let us first find all the main headings, which are under the tag `h2`"
      ]
    },
    {
      "cell_type": "markdown",
      "metadata": {
        "id": "bZl-I1ZXjOS2"
      },
      "source": [
        "### Finding all the main headings(`h2`)"
      ]
    },
    {
      "cell_type": "code",
      "execution_count": null,
      "metadata": {
        "id": "FQWFvcGyjOS2"
      },
      "outputs": [],
      "source": [
        "h2sangola=factsangola.find_all('h2')"
      ]
    },
    {
      "cell_type": "code",
      "execution_count": null,
      "metadata": {
        "id": "Z6QgZUZajOS2",
        "outputId": "468fe797-3d65-426b-bbd3-50d193227a2f"
      },
      "outputs": [
        {
          "data": {
            "text/plain": [
              "['Introduction',\n",
              " 'Geography',\n",
              " 'People and Society',\n",
              " 'Environment',\n",
              " 'Government',\n",
              " 'Economy',\n",
              " 'Energy',\n",
              " 'Communications',\n",
              " 'Transportation',\n",
              " 'Military and Security',\n",
              " 'Transnational Issues']"
            ]
          },
          "execution_count": 199,
          "metadata": {},
          "output_type": "execute_result"
        }
      ],
      "source": [
        "h2sangola=[h2.text for h2 in h2sangola]\n",
        "h2sangola"
      ]
    },
    {
      "cell_type": "markdown",
      "metadata": {
        "id": "5TkfNmc7jOS3"
      },
      "source": [
        "### Find all h3 headings"
      ]
    },
    {
      "cell_type": "markdown",
      "metadata": {
        "id": "049GRoDZjOS3"
      },
      "source": [
        "Now, each `h2` heading has subheadings underneath; which are `h3`. Can we find the `h3`s under Geography?"
      ]
    },
    {
      "cell_type": "code",
      "execution_count": null,
      "metadata": {
        "id": "yChped8ZjOS3",
        "outputId": "a89f6285-a680-402a-ce23-0af91c4fae76"
      },
      "outputs": [
        {
          "data": {
            "text/plain": [
              "[<h3 class=\"mt30\"><a href=\"/the-world-factbook/field/location\">Location</a></h3>,\n",
              " <h3 class=\"mt30\"><a href=\"/the-world-factbook/field/geographic-coordinates\">Geographic coordinates</a></h3>,\n",
              " <h3 class=\"mt30\"><a href=\"/the-world-factbook/field/map-references\">Map references</a></h3>,\n",
              " <h3 class=\"mt30\"><a href=\"/the-world-factbook/field/area\">Area</a></h3>,\n",
              " <h3 class=\"mt30\"><a href=\"/the-world-factbook/field/area-comparative\">Area - comparative</a></h3>]"
            ]
          },
          "execution_count": 92,
          "metadata": {},
          "output_type": "execute_result"
        }
      ],
      "source": [
        "geoh3=factsangola.find(\"div\",attrs={\"id\":\"geography\"}).find_all('h3')\n",
        "geoh3[:5]\n"
      ]
    },
    {
      "cell_type": "markdown",
      "metadata": {
        "id": "BPlnJWUHjOS4"
      },
      "source": [
        "Can we do the same with Introduction?"
      ]
    },
    {
      "cell_type": "code",
      "execution_count": null,
      "metadata": {
        "id": "C00ucu3TjOS4",
        "outputId": "1d014018-3103-4b12-f032-467986e11c8a"
      },
      "outputs": [
        {
          "data": {
            "text/plain": [
              "'Background'"
            ]
          },
          "execution_count": 89,
          "metadata": {},
          "output_type": "execute_result"
        }
      ],
      "source": [
        "introsh3=factsangola.find(\"div\",attrs={\"id\":\"introduction\"}).find_all('h3')\n",
        "introsh3[0].get_text()"
      ]
    },
    {
      "cell_type": "markdown",
      "metadata": {
        "id": "ySqlPvjqjOS5"
      },
      "source": [
        "Now, can we make our work easier by creating a function to do the rest of the headings?"
      ]
    },
    {
      "cell_type": "code",
      "execution_count": null,
      "metadata": {
        "id": "PpzNWAPsjOS5"
      },
      "outputs": [],
      "source": [
        "def geth3s(h2name):\n",
        "    allh3=[]\n",
        "    h3s=factsangola.find(\"div\",id=h2name).find_all('h3')\n",
        "    for h3 in h3s:\n",
        "        allh3.append(h3.text)\n",
        "    return allh3"
      ]
    },
    {
      "cell_type": "code",
      "execution_count": null,
      "metadata": {
        "id": "XHFnWIrujOS5",
        "outputId": "f30cabdb-a741-4b7e-a4dc-0e16edc8d1ba"
      },
      "outputs": [
        {
          "data": {
            "text/plain": [
              "['Location',\n",
              " 'Geographic coordinates',\n",
              " 'Map references',\n",
              " 'Area',\n",
              " 'Area - comparative',\n",
              " 'Land boundaries',\n",
              " 'Coastline',\n",
              " 'Maritime claims',\n",
              " 'Climate',\n",
              " 'Terrain',\n",
              " 'Elevation',\n",
              " 'Natural resources',\n",
              " 'Land use',\n",
              " 'Irrigated land',\n",
              " 'Major rivers (by length in km)',\n",
              " 'Major watersheds (area sq km)',\n",
              " 'Major aquifers',\n",
              " 'Population distribution',\n",
              " 'Natural hazards',\n",
              " 'Geography - note']"
            ]
          },
          "execution_count": 178,
          "metadata": {},
          "output_type": "execute_result"
        }
      ],
      "source": [
        "geth3s(\"geography\")"
      ]
    },
    {
      "cell_type": "code",
      "execution_count": null,
      "metadata": {
        "id": "BTOje9ATjOS6",
        "outputId": "f5b886fe-6a13-4721-c6af-63c3b467881b"
      },
      "outputs": [
        {
          "data": {
            "text/plain": [
              "['Photos of Angola',\n",
              " 'Introduction',\n",
              " 'Geography',\n",
              " 'People and Society',\n",
              " 'Environment',\n",
              " 'Government',\n",
              " 'Economy',\n",
              " 'Energy',\n",
              " 'Communications',\n",
              " 'Transportation',\n",
              " 'Military and Security',\n",
              " 'Transnational Issues']"
            ]
          },
          "execution_count": 154,
          "metadata": {},
          "output_type": "execute_result"
        }
      ],
      "source": [
        "# Get all text from the h2s\n",
        "h2slist=[]\n",
        "for h2 in h2sangola:\n",
        "    h2slist.append(h2.text)\n",
        "h2slist"
      ]
    },
    {
      "cell_type": "code",
      "execution_count": null,
      "metadata": {
        "id": "9pfFW6MOjOS7"
      },
      "outputs": [],
      "source": [
        "def geth3 (h2lis,bsobject):\n",
        "    totalh3=[]\n",
        "    for h2 in h2lis[1:]:\n",
        "        allh3=[]\n",
        "        h3s=bsobject.find(\"div\",attrs={\"id\":str(h2).lower().replace(\" \",\"-\")}).find_all('h3')\n",
        "        for h3 in h3s:\n",
        "            allh3.append(h3.text)\n",
        "        totalh3.append(allh3)   \n",
        "    return totalh3"
      ]
    },
    {
      "cell_type": "code",
      "execution_count": null,
      "metadata": {
        "id": "mXITyttAjOS7"
      },
      "outputs": [],
      "source": [
        "allh3s=geth3(h2slist,factsangola)"
      ]
    },
    {
      "cell_type": "markdown",
      "metadata": {
        "id": "wsDiAdWujOS7"
      },
      "source": [
        "### Link main heading to sub-heading"
      ]
    },
    {
      "cell_type": "markdown",
      "metadata": {
        "id": "4OZsn_6rjOS8"
      },
      "source": [
        "In order to link each main heading with a sub-heading, we will concatenate the names, adding a ': ' in between"
      ]
    },
    {
      "cell_type": "code",
      "execution_count": null,
      "metadata": {
        "id": "-glHFz9wjOS8",
        "outputId": "4f492567-7f9c-40c8-a915-076436be7c2e"
      },
      "outputs": [
        {
          "data": {
            "text/plain": [
              "<h2>Photos of Angola</h2>"
            ]
          },
          "execution_count": 192,
          "metadata": {},
          "output_type": "execute_result"
        }
      ],
      "source": [
        "# We first pop photos of angola since it does not have any sub headings\n",
        "# h2sangola.pop(0)"
      ]
    },
    {
      "cell_type": "markdown",
      "metadata": {
        "id": "C79wiJOajOS_"
      },
      "source": [
        "Now, the length of `h2sangola` should equal the length of `allh3s`"
      ]
    },
    {
      "cell_type": "code",
      "execution_count": null,
      "metadata": {
        "id": "9ejU8JDWjOS_",
        "outputId": "031f5738-2d89-4adc-bd44-6016f99582ec"
      },
      "outputs": [
        {
          "name": "stdout",
          "output_type": "stream",
          "text": [
            "<zip object at 0x000002196EAEC400>\n"
          ]
        }
      ],
      "source": [
        "print(zip(h2sangola,allh3s))"
      ]
    },
    {
      "cell_type": "code",
      "execution_count": null,
      "metadata": {
        "id": "s9zaVf-AjOS_",
        "outputId": "b1171655-b55b-4684-adda-44657132967e"
      },
      "outputs": [
        {
          "data": {
            "text/plain": [
              "['Background']"
            ]
          },
          "execution_count": 207,
          "metadata": {},
          "output_type": "execute_result"
        }
      ],
      "source": [
        "allh3s[0]"
      ]
    },
    {
      "cell_type": "code",
      "execution_count": null,
      "metadata": {
        "id": "MsMCdd60jOTA"
      },
      "outputs": [],
      "source": [
        "h2sh3= [[ h2sangola[i]+ \": \" +allh3s[i][j] for j in range(len(allh3s[i]))] for i in range(len(h2sangola))]"
      ]
    },
    {
      "cell_type": "code",
      "execution_count": null,
      "metadata": {
        "id": "tTM2A_arjOTA",
        "outputId": "31760df0-0026-495a-93eb-17b80fffb68a"
      },
      "outputs": [
        {
          "data": {
            "text/plain": [
              "[['Introduction: Background'],\n",
              " ['Geography: Location',\n",
              "  'Geography: Geographic coordinates',\n",
              "  'Geography: Map references',\n",
              "  'Geography: Area',\n",
              "  'Geography: Area - comparative',\n",
              "  'Geography: Land boundaries',\n",
              "  'Geography: Coastline',\n",
              "  'Geography: Maritime claims',\n",
              "  'Geography: Climate',\n",
              "  'Geography: Terrain',\n",
              "  'Geography: Elevation',\n",
              "  'Geography: Natural resources',\n",
              "  'Geography: Land use',\n",
              "  'Geography: Irrigated land',\n",
              "  'Geography: Major rivers (by length in km)',\n",
              "  'Geography: Major watersheds (area sq km)',\n",
              "  'Geography: Major aquifers',\n",
              "  'Geography: Population distribution',\n",
              "  'Geography: Natural hazards',\n",
              "  'Geography: Geography - note'],\n",
              " ['People and Society: Population',\n",
              "  'People and Society: Nationality',\n",
              "  'People and Society: Ethnic groups',\n",
              "  'People and Society: Languages',\n",
              "  'People and Society: Religions',\n",
              "  'People and Society: Demographic profile',\n",
              "  'People and Society: Age structure',\n",
              "  'People and Society: Dependency ratios',\n",
              "  'People and Society: Median age',\n",
              "  'People and Society: Population growth rate',\n",
              "  'People and Society: Birth rate',\n",
              "  'People and Society: Death rate',\n",
              "  'People and Society: Net migration rate',\n",
              "  'People and Society: Population distribution',\n",
              "  'People and Society: Urbanization',\n",
              "  'People and Society: Major urban areas - population',\n",
              "  'People and Society: Sex ratio',\n",
              "  \"People and Society: Mother's mean age at first birth\",\n",
              "  'People and Society: Maternal mortality ratio',\n",
              "  'People and Society: Infant mortality rate',\n",
              "  'People and Society: Life expectancy at birth',\n",
              "  'People and Society: Total fertility rate',\n",
              "  'People and Society: Contraceptive prevalence rate',\n",
              "  'People and Society: Drinking water source',\n",
              "  'People and Society: Current health expenditure',\n",
              "  'People and Society: Physicians density',\n",
              "  'People and Society: Sanitation facility access',\n",
              "  'People and Society: HIV/AIDS - adult prevalence rate',\n",
              "  'People and Society: HIV/AIDS - people living with HIV/AIDS',\n",
              "  'People and Society: HIV/AIDS - deaths',\n",
              "  'People and Society: Major infectious diseases',\n",
              "  'People and Society: Obesity - adult prevalence rate',\n",
              "  'People and Society: Alcohol consumption per capita',\n",
              "  'People and Society: Children under the age of 5 years underweight',\n",
              "  'People and Society: Child marriage',\n",
              "  'People and Society: Education expenditures',\n",
              "  'People and Society: Literacy',\n",
              "  'People and Society: School life expectancy (primary to tertiary education)',\n",
              "  'People and Society: Unemployment, youth ages 15-24'],\n",
              " ['Environment: Environment - current issues',\n",
              "  'Environment: Environment - international agreements',\n",
              "  'Environment: Air pollutants',\n",
              "  'Environment: Climate',\n",
              "  'Environment: Land use',\n",
              "  'Environment: Urbanization',\n",
              "  'Environment: Revenue from forest resources',\n",
              "  'Environment: Revenue from coal',\n",
              "  'Environment: Major infectious diseases',\n",
              "  'Environment: Waste and recycling',\n",
              "  'Environment: Major rivers (by length in km)',\n",
              "  'Environment: Major watersheds (area sq km)',\n",
              "  'Environment: Major aquifers',\n",
              "  'Environment: Total water withdrawal',\n",
              "  'Environment: Total renewable water resources'],\n",
              " ['Government: Country name',\n",
              "  'Government: Government type',\n",
              "  'Government: Capital',\n",
              "  'Government: Administrative divisions',\n",
              "  'Government: Independence',\n",
              "  'Government: National holiday',\n",
              "  'Government: Constitution',\n",
              "  'Government: Legal system',\n",
              "  'Government: International law organization participation',\n",
              "  'Government: Citizenship',\n",
              "  'Government: Suffrage',\n",
              "  'Government: Executive branch',\n",
              "  'Government: Legislative branch',\n",
              "  'Government: Judicial branch',\n",
              "  'Government: Political parties and leaders',\n",
              "  'Government: International organization participation',\n",
              "  'Government: Diplomatic representation in the US',\n",
              "  'Government: Diplomatic representation from the US',\n",
              "  'Government: Flag description',\n",
              "  'Government: National symbol(s)',\n",
              "  'Government: National anthem',\n",
              "  'Government: National heritage'],\n",
              " ['Economy: Economic overview',\n",
              "  'Economy: Real GDP (purchasing power parity)',\n",
              "  'Economy: Real GDP growth rate',\n",
              "  'Economy: Real GDP per capita',\n",
              "  'Economy: GDP (official exchange rate)',\n",
              "  'Economy: Inflation rate (consumer prices)',\n",
              "  'Economy: Credit ratings',\n",
              "  'Economy: GDP - composition, by sector of origin',\n",
              "  'Economy: GDP - composition, by end use',\n",
              "  'Economy: Agricultural products',\n",
              "  'Economy: Industries',\n",
              "  'Economy: Industrial production growth rate',\n",
              "  'Economy: Labor force',\n",
              "  'Economy: Labor force - by occupation',\n",
              "  'Economy: Unemployment rate',\n",
              "  'Economy: Unemployment, youth ages 15-24',\n",
              "  'Economy: Population below poverty line',\n",
              "  'Economy: Gini Index coefficient - distribution of family income',\n",
              "  'Economy: Household income or consumption by percentage share',\n",
              "  'Economy: Budget',\n",
              "  'Economy: Budget surplus (+) or deficit (-)',\n",
              "  'Economy: Public debt',\n",
              "  'Economy: Taxes and other revenues',\n",
              "  'Economy: Fiscal year',\n",
              "  'Economy: Current account balance',\n",
              "  'Economy: Exports',\n",
              "  'Economy: Exports - partners',\n",
              "  'Economy: Exports - commodities',\n",
              "  'Economy: Imports',\n",
              "  'Economy: Imports - partners',\n",
              "  'Economy: Imports - commodities',\n",
              "  'Economy: Reserves of foreign exchange and gold',\n",
              "  'Economy: Debt - external',\n",
              "  'Economy: Exchange rates'],\n",
              " ['Energy: Electricity access',\n",
              "  'Energy: Electricity',\n",
              "  'Energy: Electricity generation sources',\n",
              "  'Energy: Coal',\n",
              "  'Energy: Petroleum',\n",
              "  'Energy: Refined petroleum products - production',\n",
              "  'Energy: Refined petroleum products - exports',\n",
              "  'Energy: Refined petroleum products - imports',\n",
              "  'Energy: Natural gas',\n",
              "  'Energy: Carbon dioxide emissions',\n",
              "  'Energy: Energy consumption per capita'],\n",
              " ['Communications: Telephones - fixed lines',\n",
              "  'Communications: Telephones - mobile cellular',\n",
              "  'Communications: Telecommunication systems',\n",
              "  'Communications: Broadcast media',\n",
              "  'Communications: Internet country code',\n",
              "  'Communications: Internet users',\n",
              "  'Communications: Broadband - fixed subscriptions'],\n",
              " ['Transportation: National air transport system',\n",
              "  'Transportation: Civil aircraft registration country code prefix',\n",
              "  'Transportation: Airports',\n",
              "  'Transportation: Airports - with paved runways',\n",
              "  'Transportation: Airports - with unpaved runways',\n",
              "  'Transportation: Heliports',\n",
              "  'Transportation: Pipelines',\n",
              "  'Transportation: Railways',\n",
              "  'Transportation: Roadways',\n",
              "  'Transportation: Waterways',\n",
              "  'Transportation: Merchant marine',\n",
              "  'Transportation: Ports and terminals'],\n",
              " ['Military and Security: Military and security forces',\n",
              "  'Military and Security: Military expenditures',\n",
              "  'Military and Security: Military and security service personnel strengths',\n",
              "  'Military and Security: Military equipment inventories and acquisitions',\n",
              "  'Military and Security: Military service age and obligation',\n",
              "  'Military and Security: Military - note',\n",
              "  'Military and Security: Maritime threats'],\n",
              " ['Transnational Issues: Disputes - international',\n",
              "  'Transnational Issues: Refugees and internally displaced persons',\n",
              "  'Transnational Issues: Illicit drugs']]"
            ]
          },
          "execution_count": 217,
          "metadata": {},
          "output_type": "execute_result"
        }
      ],
      "source": [
        "h2sh3"
      ]
    },
    {
      "cell_type": "markdown",
      "metadata": {
        "id": "VdGyzQorjOTA"
      },
      "source": [
        "Amazing! We now have every sub-heading linked to its heading!! If you think about it, these could be our column heads when we store our data in either a pandas dataframe or csv!"
      ]
    },
    {
      "cell_type": "markdown",
      "metadata": {
        "id": "JcYEM1SzjOTB"
      },
      "source": [
        "### Getting the paragraphs under the h3 elements"
      ]
    },
    {
      "cell_type": "markdown",
      "metadata": {
        "id": "LaSaKoi9jOTB"
      },
      "source": [
        "Now that we have headings and subheadings, we can go to the next paragraphs under each subheading. Note that each subheading has at least one paragraph below it."
      ]
    },
    {
      "cell_type": "code",
      "execution_count": null,
      "metadata": {
        "id": "GKcDF7DfjOTB"
      },
      "outputs": [],
      "source": [
        "# We can reuse the function to get subheadings to get paragraphs in this case\n",
        "def getp (h2lis,bsobject):\n",
        "    totalp=[]\n",
        "    for h2 in h2lis[1:]:\n",
        "        allp=[]\n",
        "        h3s=bsobject.find(\"div\",attrs={\"id\":str(h2).lower().replace(\" \",\"-\")}).find_all('h3')\n",
        "        for h3 in h3s:\n",
        "            allp.append(h3.find_next(\"p\").get_text())\n",
        "        totalp.append(allp)   \n",
        "    return totalp"
      ]
    },
    {
      "cell_type": "code",
      "execution_count": null,
      "metadata": {
        "id": "gYvx4T-gjOTB"
      },
      "outputs": [],
      "source": [
        "allps=getp(h2slist,factsangola)"
      ]
    },
    {
      "cell_type": "code",
      "execution_count": null,
      "metadata": {
        "id": "oOD57JE-jOTB",
        "outputId": "ae48e3c3-f69b-4e57-fbe5-74784d550e44"
      },
      "outputs": [
        {
          "data": {
            "text/plain": [
              "[\"From the late 14th to the mid 19th century a Kingdom of Kongo stretched across central Africa from present-day northern Angola into the current Congo republics. It traded heavily with the Portuguese who, beginning in the 16th century, established coastal colonies and trading posts and introduced Christianity. By the 19th century, Portuguese settlement had spread to the interior; in 1914, Portugal abolished the last vestiges of the Kongo Kingdom and Angola became a Portuguese colony. Angola scores low on human development indexes despite using its large oil reserves to rebuild since the end of a 27-year civil war in 2002. Fighting between the Popular Movement for the Liberation of Angola (MPLA), led by Jose Eduardo DOS SANTOS, and the National Union for the Total Independence of Angola (UNITA), led by Jonas SAVIMBI, followed independence from Portugal in 1975. Peace seemed imminent in 1992 when Angola held national elections, but fighting picked up again in 1993. Up to 1.5 million lives may have been lost - and 4 million people displaced - during the more than a quarter century of fighting. SAVIMBI's death in 2002 ended UNITA's insurgency and cemented the MPLA's hold on power. DOS SANTOS stepped down from the presidency in 2017, having led the country since 1979. He pushed through a new constitution in 2010. Joao LOURENCO was elected president in August 2017 and became president of the MPLA in September 2018.\"]"
            ]
          },
          "execution_count": 250,
          "metadata": {},
          "output_type": "execute_result"
        }
      ],
      "source": [
        "allps[0]"
      ]
    },
    {
      "cell_type": "markdown",
      "metadata": {
        "id": "okGpJR1XjOTB"
      },
      "source": [
        "### Saving scraped Data"
      ]
    },
    {
      "cell_type": "markdown",
      "metadata": {
        "id": "QGPcy7N5jOTB"
      },
      "source": [
        "After getting the data we need, we can then store the data. Lets first save it in a pandas dataframe. Once saved in a pandas dataframe, it's easy to save as csv using the `to_csv` method."
      ]
    },
    {
      "cell_type": "code",
      "execution_count": null,
      "metadata": {
        "id": "9R4aSsywjOTC"
      },
      "outputs": [],
      "source": [
        "import pandas as pd\n",
        "import numpy as np"
      ]
    },
    {
      "cell_type": "markdown",
      "metadata": {
        "id": "4PpusY3BjOTC"
      },
      "source": [
        "We can use [np.hstack](https://numpy.org/doc/stable/reference/generated/numpy.hstack.html) to create a concatenated version of our lists along the first axis."
      ]
    },
    {
      "cell_type": "code",
      "execution_count": null,
      "metadata": {
        "id": "LuPxMN_wjOTC"
      },
      "outputs": [],
      "source": [
        "columnsarr=np.hstack(h2sh3)"
      ]
    },
    {
      "cell_type": "code",
      "execution_count": null,
      "metadata": {
        "id": "Ye090keAjOTC"
      },
      "outputs": [],
      "source": [
        "dataarr=np.hstack(allps)"
      ]
    },
    {
      "cell_type": "code",
      "execution_count": null,
      "metadata": {
        "id": "tZRz7rQYjOTC",
        "outputId": "b0dcf7b5-dd79-47f3-ce3b-12dac6c8b2b6"
      },
      "outputs": [
        {
          "data": {
            "text/plain": [
              "(171,)"
            ]
          },
          "execution_count": 262,
          "metadata": {},
          "output_type": "execute_result"
        }
      ],
      "source": [
        "np.shape(columnsarr)"
      ]
    },
    {
      "cell_type": "code",
      "execution_count": null,
      "metadata": {
        "id": "5C5RC9h6jOTC"
      },
      "outputs": [],
      "source": [
        "angoladf=pd.DataFrame([dataarr],columns=columnsarr)"
      ]
    },
    {
      "cell_type": "code",
      "execution_count": null,
      "metadata": {
        "id": "pj3dEfDqjOTC"
      },
      "outputs": [],
      "source": [
        "angoladf.to_csv('angola_factbook.csv')"
      ]
    },
    {
      "cell_type": "code",
      "source": [
        "!pip install jovian"
      ],
      "metadata": {
        "id": "Pu-UcjVxxd_X"
      },
      "execution_count": null,
      "outputs": []
    },
    {
      "cell_type": "code",
      "execution_count": null,
      "metadata": {
        "id": "Y53na8t1jOTD"
      },
      "outputs": [],
      "source": [
        "import jovian"
      ]
    },
    {
      "cell_type": "code",
      "execution_count": null,
      "metadata": {
        "id": "xcQ9NrlzjOTD",
        "outputId": "79306c43-ef54-4342-e4cb-23f527d59a27"
      },
      "outputs": [
        {
          "data": {
            "application/javascript": "window.require && require([\"base/js/namespace\"],function(Jupyter){Jupyter.notebook.save_checkpoint()})",
            "text/plain": [
              "<IPython.core.display.Javascript object>"
            ]
          },
          "metadata": {},
          "output_type": "display_data"
        },
        {
          "name": "stdout",
          "output_type": "stream",
          "text": [
            "[jovian] Updating notebook \"andrewkamaukim/angolafactbook\" on https://jovian.ai/\u001b[0m\n",
            "[jovian] Committed successfully! https://jovian.ai/andrewkamaukim/angolafactbook\u001b[0m\n"
          ]
        },
        {
          "data": {
            "text/plain": [
              "'https://jovian.ai/andrewkamaukim/angolafactbook'"
            ]
          },
          "execution_count": 268,
          "metadata": {},
          "output_type": "execute_result"
        }
      ],
      "source": [
        "jovian.commit(filename=\"angolafactbook.ipynb\")"
      ]
    },
    {
      "cell_type": "markdown",
      "metadata": {
        "id": "MHG9HugljOTD"
      },
      "source": [
        "### Bringing it all together"
      ]
    },
    {
      "cell_type": "markdown",
      "metadata": {
        "id": "n82G0VCXjOTD"
      },
      "source": [
        "Now, we can summarize all that we have done to get the data from the CIA's Angola Factbook. We\n",
        "* Used the requests library to get the webpage\n",
        "* Extracted the website's info using BeautifulSoup\n",
        "* Looked for all the main headings(`h2`) in the website and saved them as a list `h2slist`\n",
        "* Found all sub-headings,`h3` under each heading and saved them as a list of lists, `allh3s`\n",
        "* Linked the main headings to sub-headings using a colon- `: ` and saved them as `h2sh3`\n",
        "* Got all the paragraphs,`p`, under the subheadings `h3` as a list of lists, `allps`\n",
        "* Created a concatenated version of our lists as an array using `np.hstack`\n",
        "* Converted the `h2sh3` to column heads and `allps` to rows for a pandas dataframe\n",
        "* Converted the pandas dataframe to a csv"
      ]
    },
    {
      "cell_type": "markdown",
      "metadata": {
        "id": "MZ1LbVpQjOTE"
      },
      "source": [
        "Now, these may seem like a lot of steps, but they were all vital to get the final csv. However, imagine how painful it would be to do this, over and over again for each country. Is there a way we could get the data for all the countries without repeating this process? \n",
        "\n",
        "This is what we'll be looking into in the next notebook!"
      ]
    },
    {
      "cell_type": "code",
      "execution_count": null,
      "metadata": {
        "id": "4XvoeORzjOTE",
        "outputId": "95eb674b-c4a5-4329-90f6-1848adab6a22"
      },
      "outputs": [
        {
          "data": {
            "application/javascript": "window.require && require([\"base/js/namespace\"],function(Jupyter){Jupyter.notebook.save_checkpoint()})",
            "text/plain": [
              "<IPython.core.display.Javascript object>"
            ]
          },
          "metadata": {},
          "output_type": "display_data"
        },
        {
          "name": "stdout",
          "output_type": "stream",
          "text": [
            "[jovian] Updating notebook \"andrewkamaukim/angolafactbook\" on https://jovian.ai/\u001b[0m\n",
            "[jovian] Committed successfully! https://jovian.ai/andrewkamaukim/angolafactbook\u001b[0m\n"
          ]
        },
        {
          "data": {
            "text/plain": [
              "'https://jovian.ai/andrewkamaukim/angolafactbook'"
            ]
          },
          "execution_count": 271,
          "metadata": {},
          "output_type": "execute_result"
        }
      ],
      "source": [
        "jovian.commit(filename=\"angolafactbook.ipynb\")"
      ]
    }
  ],
  "metadata": {
    "kernelspec": {
      "display_name": "Python 3 (ipykernel)",
      "language": "python",
      "name": "python3"
    },
    "language_info": {
      "codemirror_mode": {
        "name": "ipython",
        "version": 3
      },
      "file_extension": ".py",
      "mimetype": "text/x-python",
      "name": "python",
      "nbconvert_exporter": "python",
      "pygments_lexer": "ipython3",
      "version": "3.10.2"
    },
    "vscode": {
      "interpreter": {
        "hash": "a0329d1e859fdaae7091121e22fb799195311d986a530316c2954a05cd641814"
      }
    },
    "colab": {
      "provenance": [],
      "include_colab_link": true
    }
  },
  "nbformat": 4,
  "nbformat_minor": 0
}